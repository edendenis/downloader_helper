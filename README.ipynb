{
 "cells": [
  {
   "cell_type": "markdown",
   "metadata": {},
   "source": [
    "# Tutorial de Instalação"
   ]
  },
  {
   "cell_type": "markdown",
   "metadata": {},
   "source": [
    "## 1. Configurar/Instalar/usar o `Git` [1]",
    "\n",
    "Certifique-se de que o `Git` esteja instalado no sistema."
   ]
  },
  {
   "cell_type": "markdown",
   "metadata": {},
   "source": [
    "## 2. Como instalar o `downloader_helper` no `Linux Ubuntu`",
    "\n",
    "1. Abra o terminal.",
    "\n",
    "2. Clone este repositório:",
    "\n",
    "   ```bash",
    "   git clone <url-do-repo>",
    "   ```",
    "\n",
    "3. Instale as dependências:",
    "\n",
    "   ```bash",
    "   sudo apt-get install python3 python3-pip",
    "   ```",
    "\n",
    "4. Instale o programa:",
    "\n",
    "   ```bash",
    "   pip install .",
    "   ```",
    "\n",
    "5. Execute o script conforme necessário."
   ]
  },
  {
   "cell_type": "markdown",
   "metadata": {},
   "source": [
    "## Referências",
    "\n",
    "* [ChatGPT - Como instalar o `downloader helper` no `Linux Ubuntu`](https://chat.openai.com/share/abc123)\n"
   ]
  }
 ],
 "metadata": {
  "language_info": {
   "name": "python"
  }
 },
 "nbformat": 4,
 "nbformat_minor": 5
}